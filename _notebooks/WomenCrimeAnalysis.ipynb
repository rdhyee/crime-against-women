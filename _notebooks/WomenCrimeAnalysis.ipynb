{
 "metadata": {
  "name": "",
  "signature": "sha256:3f9bddcf6b87571d0785130adf195d3adbe384c7be4cf5b7678db86c4a3fb5be"
 },
 "nbformat": 3,
 "nbformat_minor": 0,
 "worksheets": [
  {
   "cells": [
    {
     "cell_type": "code",
     "collapsed": false,
     "input": [
      "%pylab --no-import-all inline\n",
      "%matplotlib inline"
     ],
     "language": "python",
     "metadata": {},
     "outputs": [
      {
       "output_type": "stream",
       "stream": "stdout",
       "text": [
        "Populating the interactive namespace from numpy and matplotlib\n"
       ]
      }
     ],
     "prompt_number": 1
    },
    {
     "cell_type": "code",
     "collapsed": false,
     "input": [
      "import numpy as np\n",
      "import os\n",
      "import pandas as pd\n",
      "import codecs\n",
      "import matplotlib.pyplot as plt\n",
      "import uuid\n",
      "import jinja2\n",
      "import folium\n",
      "import json\n",
      "\n",
      "# from jinja2 import Template\n",
      "# from settings import LEAFLET_KEY\n",
      "from pprint import pprint\n",
      "from itertools import islice\n",
      "from pandas import DataFrame, Series\n",
      "from numpy.random import randn\n",
      "from IPython.display import display, Image, HTML, clear_output\n",
      "from IPython.html import widgets\n",
      "\n",
      "# CSS_URL = \"http://cdn.leafletjs.com/leaflet-0.7.2/leaflet.css\"\n",
      "# LEAFLET_JS_URL = \"http://cdn.leafletjs.com/leaflet-0.7.2/leaflet\""
     ],
     "language": "python",
     "metadata": {},
     "outputs": [],
     "prompt_number": 2
    },
    {
     "cell_type": "code",
     "collapsed": false,
     "input": [],
     "language": "python",
     "metadata": {},
     "outputs": [],
     "prompt_number": 2
    },
    {
     "cell_type": "markdown",
     "metadata": {},
     "source": [
      "We start by importing the data from the csv data files. We then create data frames that we will use to analyze data for the current year."
     ]
    },
    {
     "cell_type": "code",
     "collapsed": false,
     "input": [
      "# Set the path to get the files to be the base directory of the application\n",
      "FILES_DIR = os.path.join(os.pardir, \"_data\")\n",
      "# file_path = os.path.join(FILES_DIR, 'CurrentYear2012Data.csv')\n",
      "\n",
      "# Open the file with current year statistics and create a data frame\n",
      "currentFile = codecs.open(os.path.join(FILES_DIR,'CurrentYear2012Data.csv'), encoding='iso-8859-1')\n",
      "currentYear = DataFrame(pd.read_csv(currentFile))\n",
      "\n",
      "# Remove summary (total) rows from the data\n",
      "currentYear = currentYear[(currentYear['STATE/UT'] != 'TOTAL (UTs)') & (currentYear['STATE/UT'] != 'TOTAL (STATES)') & (currentYear['STATE/UT'] != 'TOTAL (ALL-INDIA)')]\n",
      "currentYear = currentYear[(currentYear['Crime head'] != 'TOTAL CRIMES AGAINST WOMEN')]\n",
      "\n",
      "# Open the file with current year population and create a data frame\n",
      "currentFile = codecs.open(os.path.join(FILES_DIR,'indiaStatesPopulation.csv'), encoding='iso-8859-1')\n",
      "currentPopulation = DataFrame(pd.read_csv(currentFile))\n",
      "\n",
      "# Merge the two dataframes to create a dataframe with current year statistics and population.\n",
      "currentYear = pd.merge(currentYear, currentPopulation, on='STATE/UT')\n",
      "\n",
      "#Open the file with historic crime type\n",
      "currentFile = codecs.open(os.path.join(FILES_DIR,'historicCrimeTypeYearly.csv'), encoding='iso-8859-1')\n",
      "historicCrimes = DataFrame(pd.read_csv(currentFile))\n",
      "historicCrimes = historicCrimes[(historicCrimes['CRIME HEAD'] != 'Total Crimes against Women')]\n"
     ],
     "language": "python",
     "metadata": {},
     "outputs": [],
     "prompt_number": 3
    },
    {
     "cell_type": "markdown",
     "metadata": {},
     "source": [
      "CURRENT YEAR ANALYSIS\n",
      "\n",
      "Our initial analysis, focuses on the current crime numbers for the year 2012. "
     ]
    },
    {
     "cell_type": "markdown",
     "metadata": {},
     "source": []
    },
    {
     "cell_type": "code",
     "collapsed": false,
     "input": [
      "#Total Crimes Against Women in 2012\n",
      "print sum(currentYear['Grand Total'])"
     ],
     "language": "python",
     "metadata": {},
     "outputs": [
      {
       "output_type": "stream",
       "stream": "stdout",
       "text": [
        "433663\n"
       ]
      }
     ],
     "prompt_number": 4
    },
    {
     "cell_type": "code",
     "collapsed": false,
     "input": [
      "# len(currentYear.groupby('STATE/UT'))\n",
      "\n",
      "# totalCrime_2012 = sum(currentYear['Grand Total'])\n",
      "# print totalCrime_2012\n",
      "\n",
      "# totalIndiaPopulation = 1237000000\n",
      "\n",
      "# criminalsPer_1000 = (totalCrime_2012 *1000) / totalIndiaPopulation \n",
      "# print criminalsPer_1000"
     ],
     "language": "python",
     "metadata": {},
     "outputs": [],
     "prompt_number": 5
    },
    {
     "cell_type": "markdown",
     "metadata": {},
     "source": [
      "So there are 38 states listed in the dataframe which is more than the actual. We will investigate why this is so"
     ]
    },
    {
     "cell_type": "code",
     "collapsed": false,
     "input": [
      "stateNumbers = currentYear.groupby('STATE/UT').sum()\n",
      "stateNumbers = stateNumbers.sort(['Grand Total'], ascending=[0])\n",
      "stateNumbers.head()"
     ],
     "language": "python",
     "metadata": {},
     "outputs": [
      {
       "html": [
        "<div style=\"max-height:1000px;max-width:1500px;overflow:auto;\">\n",
        "<table border=\"1\" class=\"dataframe\">\n",
        "  <thead>\n",
        "    <tr style=\"text-align: right;\">\n",
        "      <th></th>\n",
        "      <th>Male Below 18 Years</th>\n",
        "      <th>Female Below 18 Years</th>\n",
        "      <th>Male Between 18-30 Years</th>\n",
        "      <th>Female Between 18-30 Years</th>\n",
        "      <th>Male Between 30-45 Years</th>\n",
        "      <th>Female Between 30-45 Years</th>\n",
        "      <th>Male Between 45-60 Years</th>\n",
        "      <th>Female Between 45-60 Years</th>\n",
        "      <th>Male Above 60 Years</th>\n",
        "      <th>Female Above 60 Years</th>\n",
        "      <th>Total Male</th>\n",
        "      <th>Total Female</th>\n",
        "      <th>Grand Total</th>\n",
        "      <th>Total population</th>\n",
        "    </tr>\n",
        "    <tr>\n",
        "      <th>STATE/UT</th>\n",
        "      <th></th>\n",
        "      <th></th>\n",
        "      <th></th>\n",
        "      <th></th>\n",
        "      <th></th>\n",
        "      <th></th>\n",
        "      <th></th>\n",
        "      <th></th>\n",
        "      <th></th>\n",
        "      <th></th>\n",
        "      <th></th>\n",
        "      <th></th>\n",
        "      <th></th>\n",
        "      <th></th>\n",
        "    </tr>\n",
        "  </thead>\n",
        "  <tbody>\n",
        "    <tr>\n",
        "      <th>ANDHRA PRADESH</th>\n",
        "      <td> 560</td>\n",
        "      <td> 14</td>\n",
        "      <td> 33758</td>\n",
        "      <td> 4554</td>\n",
        "      <td> 21580</td>\n",
        "      <td> 4880</td>\n",
        "      <td> 7640</td>\n",
        "      <td> 3636</td>\n",
        "      <td> 1378</td>\n",
        "      <td> 576</td>\n",
        "      <td> 64916</td>\n",
        "      <td> 13660</td>\n",
        "      <td> 78576</td>\n",
        "      <td> 1015986396</td>\n",
        "    </tr>\n",
        "    <tr>\n",
        "      <th>UTTAR PRADESH</th>\n",
        "      <td> 232</td>\n",
        "      <td> 13</td>\n",
        "      <td> 40483</td>\n",
        "      <td> 3318</td>\n",
        "      <td> 19823</td>\n",
        "      <td> 2633</td>\n",
        "      <td> 8416</td>\n",
        "      <td> 1504</td>\n",
        "      <td> 1203</td>\n",
        "      <td> 120</td>\n",
        "      <td> 70157</td>\n",
        "      <td>  7588</td>\n",
        "      <td> 77745</td>\n",
        "      <td> 2195396247</td>\n",
        "    </tr>\n",
        "    <tr>\n",
        "      <th>MAHARASHTRA</th>\n",
        "      <td> 349</td>\n",
        "      <td> 50</td>\n",
        "      <td> 13537</td>\n",
        "      <td> 3363</td>\n",
        "      <td>  9821</td>\n",
        "      <td> 3996</td>\n",
        "      <td> 4655</td>\n",
        "      <td> 2959</td>\n",
        "      <td> 1535</td>\n",
        "      <td> 783</td>\n",
        "      <td> 29897</td>\n",
        "      <td> 11151</td>\n",
        "      <td> 41048</td>\n",
        "      <td> 1236102692</td>\n",
        "    </tr>\n",
        "    <tr>\n",
        "      <th>WEST BENGAL</th>\n",
        "      <td> 199</td>\n",
        "      <td> 22</td>\n",
        "      <td> 10813</td>\n",
        "      <td>  981</td>\n",
        "      <td>  8594</td>\n",
        "      <td> 4328</td>\n",
        "      <td> 5269</td>\n",
        "      <td> 3224</td>\n",
        "      <td>  457</td>\n",
        "      <td> 136</td>\n",
        "      <td> 25332</td>\n",
        "      <td>  8691</td>\n",
        "      <td> 34023</td>\n",
        "      <td> 1004825096</td>\n",
        "    </tr>\n",
        "    <tr>\n",
        "      <th>MADHYA PRADESH</th>\n",
        "      <td> 689</td>\n",
        "      <td> 40</td>\n",
        "      <td> 13814</td>\n",
        "      <td> 1258</td>\n",
        "      <td>  7469</td>\n",
        "      <td> 1435</td>\n",
        "      <td> 2746</td>\n",
        "      <td> 1062</td>\n",
        "      <td>  509</td>\n",
        "      <td> 225</td>\n",
        "      <td> 25227</td>\n",
        "      <td>  4020</td>\n",
        "      <td> 29247</td>\n",
        "      <td>  798573215</td>\n",
        "    </tr>\n",
        "  </tbody>\n",
        "</table>\n",
        "<p>5 rows \u00d7 14 columns</p>\n",
        "</div>"
       ],
       "metadata": {},
       "output_type": "pyout",
       "prompt_number": 6,
       "text": [
        "                Male Below 18 Years  Female Below 18 Years  \\\n",
        "STATE/UT                                                     \n",
        "ANDHRA PRADESH                  560                     14   \n",
        "UTTAR PRADESH                   232                     13   \n",
        "MAHARASHTRA                     349                     50   \n",
        "WEST BENGAL                     199                     22   \n",
        "MADHYA PRADESH                  689                     40   \n",
        "\n",
        "                Male Between 18-30 Years  Female Between 18-30 Years  \\\n",
        "STATE/UT                                                               \n",
        "ANDHRA PRADESH                     33758                        4554   \n",
        "UTTAR PRADESH                      40483                        3318   \n",
        "MAHARASHTRA                        13537                        3363   \n",
        "WEST BENGAL                        10813                         981   \n",
        "MADHYA PRADESH                     13814                        1258   \n",
        "\n",
        "                Male Between 30-45 Years  Female Between 30-45 Years  \\\n",
        "STATE/UT                                                               \n",
        "ANDHRA PRADESH                     21580                        4880   \n",
        "UTTAR PRADESH                      19823                        2633   \n",
        "MAHARASHTRA                         9821                        3996   \n",
        "WEST BENGAL                         8594                        4328   \n",
        "MADHYA PRADESH                      7469                        1435   \n",
        "\n",
        "                Male Between 45-60 Years  Female Between 45-60 Years  \\\n",
        "STATE/UT                                                               \n",
        "ANDHRA PRADESH                      7640                        3636   \n",
        "UTTAR PRADESH                       8416                        1504   \n",
        "MAHARASHTRA                         4655                        2959   \n",
        "WEST BENGAL                         5269                        3224   \n",
        "MADHYA PRADESH                      2746                        1062   \n",
        "\n",
        "                Male Above 60 Years  Female Above 60 Years  Total Male  \\\n",
        "STATE/UT                                                                 \n",
        "ANDHRA PRADESH                 1378                    576       64916   \n",
        "UTTAR PRADESH                  1203                    120       70157   \n",
        "MAHARASHTRA                    1535                    783       29897   \n",
        "WEST BENGAL                     457                    136       25332   \n",
        "MADHYA PRADESH                  509                    225       25227   \n",
        "\n",
        "                Total Female  Grand Total  Total population  \n",
        "STATE/UT                                                     \n",
        "ANDHRA PRADESH         13660        78576        1015986396  \n",
        "UTTAR PRADESH           7588        77745        2195396247  \n",
        "MAHARASHTRA            11151        41048        1236102692  \n",
        "WEST BENGAL             8691        34023        1004825096  \n",
        "MADHYA PRADESH          4020        29247         798573215  \n",
        "\n",
        "[5 rows x 14 columns]"
       ]
      }
     ],
     "prompt_number": 6
    },
    {
     "cell_type": "markdown",
     "metadata": {},
     "source": [
      "Preliminary Analysis To Do\n",
      "\n",
      "We attempt to calculate the total number of people (men and women) arrested for crime against women in 2012 by summing up the Grand Total column. Further, we try to find the total number of these criminals per thousand. Turns out, about 1 in every thousand people got arrested for commiting a crime against women. This is a big number for a country with a population of over a billion.  "
     ]
    },
    {
     "cell_type": "code",
     "collapsed": false,
     "input": [
      "stateNumbers[['Grand Total', 'Total population']] = stateNumbers[['Grand Total', 'Total population']].astype(float)\n",
      "\n",
      "\n",
      "# stateNumbers['weightedCrime'] = stateNumbers.apply(lambda return x: Grand Total,axis=1)\n",
      "stateNumbers['Weighted Crime'] = stateNumbers.apply(lambda s: (s['Grand Total'] *100000) / s['Total population'], axis=1)\n",
      "stateNumbers\n",
      "\n",
      "totalCrime_2012 = sum(stateNumbers['Grand Total'])\n",
      "totalPopulation_2012 = sum(stateNumbers['Total population'])\n",
      "\n",
      "criminalsPer_1000 = (totalCrime_2012 / totalPopulation_2012) * 1000\n",
      "print criminalsPer_1000"
     ],
     "language": "python",
     "metadata": {},
     "outputs": [
      {
       "output_type": "stream",
       "stream": "stdout",
       "text": [
        "0.0323706572413\n"
       ]
      }
     ],
     "prompt_number": 7
    },
    {
     "cell_type": "code",
     "collapsed": false,
     "input": [
      "stateNumbers[['Total Male', 'Total Female']].plot(kind='bar', figsize=(15,10), title = 'Number of Crimes Per State')\n",
      "plt.legend(loc='best')\n",
      "# dfCarrDelay_count = pd.concat((dfArrvDelay_count, dfDepDelay_count), axis = 1)\n",
      "# dfCarrDelay_count.columns = ['ArrivalDelay_count', 'DepartureDelay_count']\n",
      "# df1 = df[['a','b']]"
     ],
     "language": "python",
     "metadata": {},
     "outputs": [
      {
       "metadata": {},
       "output_type": "pyout",
       "prompt_number": 8,
       "text": [
        "<matplotlib.legend.Legend at 0x10777cbd0>"
       ]
      },
      {
       "metadata": {},
       "output_type": "display_data",
       "png": "[encoded data removed]",
       "text": [
        "<matplotlib.figure.Figure at 0x10777a310>"
       ]
      }
     ],
     "prompt_number": 8
    },
    {
     "cell_type": "markdown",
     "metadata": {},
     "source": [
      "Normalized Crime Per State\n",
      "\n",
      "We now want to see how the states rank in terms of crimes relative to their populations. Do they rank similarly or they follow a similar pattern in terms of number of crimes "
     ]
    },
    {
     "cell_type": "code",
     "collapsed": false,
     "input": [
      "weightedStateNumbers= stateNumbers\n",
      "plt.figure\n",
      "weightedStateNumbers['Weighted Crime'].plot(kind='bar', figsize=(15,10), title = 'Normalized Crimes Per State', color='b')\n",
      "# weightedStateNumbers['STATE/UT']"
     ],
     "language": "python",
     "metadata": {},
     "outputs": [
      {
       "metadata": {},
       "output_type": "pyout",
       "prompt_number": 9,
       "text": [
        "<matplotlib.axes.AxesSubplot at 0x10777a4d0>"
       ]
      },
      {
       "metadata": {},
       "output_type": "display_data",
       "png": "[encoded data removed]",
       "text": [
        "<matplotlib.figure.Figure at 0x10777cb50>"
       ]
      }
     ],
     "prompt_number": 9
    },
    {
     "cell_type": "markdown",
     "metadata": {},
     "source": [
      "Interactive Map of Crimes By State"
     ]
    },
    {
     "cell_type": "code",
     "collapsed": false,
     "input": [
      "def inline_map(map):\n",
      "    \"\"\"\n",
      "    Embeds the HTML source of the map directly into the IPython notebook.\n",
      "    \n",
      "    This method will not work if the map depends on any files (json data). Also this uses\n",
      "    the HTML5 srcdoc attribute, which may not be supported in all browsers.\n",
      "    \"\"\"\n",
      "    map._build_map()\n",
      "    return HTML('<iframe srcdoc=\"{srcdoc}\" style=\"width: 100%; height: 510px; border: none\"></iframe>'.format(srcdoc=map.HTML.replace('\"', '&quot;')))\n",
      "\n",
      "def embed_map(map, path=\"map.html\"):\n",
      "    \"\"\"\n",
      "    Embeds a linked iframe to the map into the IPython notebook.\n",
      "    \n",
      "    Note: this method will not capture the source of the map into the notebook.\n",
      "    This method should work for all maps (as long as they use relative urls).\n",
      "    \"\"\"\n",
      "    map.create_map(path=path)\n",
      "    return HTML('<iframe src=\"files/{path}\" style=\"width: 100%; height: 510px; border: none\"></iframe>'.format(path=path))\n"
     ],
     "language": "python",
     "metadata": {},
     "outputs": [],
     "prompt_number": 10
    },
    {
     "cell_type": "code",
     "collapsed": false,
     "input": [
      "# weightedStateNumbers.get_group('STATE/UT')\n",
      "# state_boundaries = []\n",
      "\n",
      "# with open(\"../_data/indian_states.json\") as fileData:\n",
      "#     data = json.load(fileData)\n",
      "#     for rec in islice(data['features'],None):\n",
      "# #         state_boundaries.append(rec['geometry']['coordinates'])\n",
      "#         print rec['geometry']['coordinates'][0]\n",
      "#         print '-------'\n",
      "    \n",
      "\n",
      "# pprint(data['features'])\n",
      "# for rec in islice(open(\"../_data/indian_states.json\"), 1, None):\n",
      "    \n",
      "#     state_boundaries.append(json.loads(rec))\n",
      "\n",
      "# state_boundaries[:2]"
     ],
     "language": "python",
     "metadata": {},
     "outputs": [],
     "prompt_number": 11
    },
    {
     "cell_type": "code",
     "collapsed": false,
     "input": [
      "\n",
      "# ***********************************US SAMPLE CODE THAT IS NOT WORKING********************************\n",
      "\n",
      "# state_geo = r'us-states.json'\n",
      "# state_unemployment = r'../_data/US_Unemployment_Oct2012.csv'\n",
      "\n",
      "# state_data = pd.read_csv(state_unemployment)\n",
      "# state_data.head()\n",
      "# #Let Folium determine the scale\n",
      "# map = folium.Map(location=[48, -102], zoom_start=3)\n",
      "# map.geo_json(geo_path=state_geo, data=state_data,\n",
      "#              columns=['State', 'Unemployment'],\n",
      "#              key_on='features.id',\n",
      "#              fill_color='BuPu', fill_opacity=0.7, line_opacity=0.2,\n",
      "#              legend_name='Unemployment Rate (%)')\n",
      "\n",
      "\n",
      "# inline_map(map)"
     ],
     "language": "python",
     "metadata": {},
     "outputs": [],
     "prompt_number": 12
    },
    {
     "cell_type": "heading",
     "level": 1,
     "metadata": {},
     "source": [
      "Answer to Chalenge's Question (2014.05.05)"
     ]
    },
    {
     "cell_type": "markdown",
     "metadata": {},
     "source": [
      "First of all, I'm glad to see the [geojson representation for the Indian states](https://github.com/chalenge/crime-against-women/blob/master/_data/indian_states.json) in the repository."
     ]
    },
    {
     "cell_type": "code",
     "collapsed": false,
     "input": [
      "# ***********************************MY CODE ALSO NOT WORKING********************************\n",
      "state_geo = r'../_data/indian_states.json'\n",
      "# state_crimes = r'../_data/US_Unemployment_Oct2012.csv'\n",
      "#state_unemployment = r'../_data/US_Unemployment_Oct2012.csv'\n",
      "\n",
      "weightedStateNumbers['STATE/UT'] = weightedStateNumbers.index\n",
      "\n",
      "#state_data = pd.read_csv(state_unemployment)\n",
      "#Let Folium determine the slcale\n",
      "map = folium.Map(location=[21, 78], zoom_start=5)\n",
      "\n",
      "map.geo_json(geo_path=state_geo, data=weightedStateNumbers,\n",
      "             columns=['STATE/UT', 'Weighted Crime'],\n",
      "             key_on='features.id',\n",
      "             fill_color='BuPu', fill_opacity=0.7, line_opacity=0.2,\n",
      "             legend_name='Weighted State Crime Numbers')\n",
      "\n",
      "inline_map(map)\n"
     ],
     "language": "python",
     "metadata": {},
     "outputs": [
      {
       "html": [
        "<iframe srcdoc=\"<!DOCTYPE html>\n",
        "<head>\n",
        "   <meta http-equiv=&quot;content-type&quot; content=&quot;text/html; charset=UTF-8&quot; />\n",
        "   <link rel=&quot;stylesheet&quot; href=&quot;http://cdn.leafletjs.com/leaflet-0.7/leaflet.css&quot; />\n",
        "   <script src=&quot;http://cdn.leafletjs.com/leaflet-0.7/leaflet.js&quot;></script>\n",
        "   <script src=&quot;http://d3js.org/d3.v3.min.js&quot; charset=&quot;utf-8&quot;></script>\n",
        "   <script src=&quot;http://d3js.org/queue.v1.min.js&quot;></script>\n",
        "\n",
        "   \n",
        "   \n",
        "   \n",
        "   \n",
        "\n",
        "   <style>\n",
        "\n",
        "      .legend {\n",
        "          padding: 0px 0px;\n",
        "          font: 10px sans-serif;\n",
        "          background: white;\n",
        "          background: rgba(255,255,255,0.8);\n",
        "          box-shadow: 0 0 15px rgba(0,0,0,0.2);\n",
        "          border-radius: 5px;\n",
        "      }\n",
        "\n",
        "      .key path {\n",
        "        display: none;\n",
        "      }\n",
        "\n",
        "   </style>\n",
        "</head>\n",
        "\n",
        "<body>\n",
        "\n",
        "   <div id=&quot;map&quot; style=&quot;width: 960px; height: 500px&quot;></div>\n",
        "\n",
        "   <script>\n",
        "\n",
        "      queue()\n",
        "          .defer(d3.json, 'data.json')\n",
        "          .defer(d3.json, '../_data/indian_states.json')\n",
        "          .await(makeMap)\n",
        "\n",
        "      function makeMap(error, data_1,gjson_1) {\n",
        "\n",
        "          \n",
        "\n",
        "          \n",
        "\n",
        "          function matchKey(datapoint, key_variable){\n",
        "              if (typeof key_variable[0][datapoint] === 'undefined') {\n",
        "                  return null;\n",
        "              }\n",
        "              else {\n",
        "                  return parseFloat(key_variable[0][datapoint]);\n",
        "              };\n",
        "          };\n",
        "\n",
        "          \n",
        "          var color = d3.scale.threshold()\n",
        "              .domain([0.1, 2.0, 3.0, 4.0, 4.0])\n",
        "              .range(['#EDF8FB', '#BFD3E6', '#9EBCDA', '#8C96C6', '#8C6BB1', '#88419D']);\n",
        "          \n",
        "\n",
        "          var map = L.map('map').setView([21, 78], 5);\n",
        "\n",
        "          L.tileLayer('http://{s}.tile.openstreetmap.org/{z}/{x}/{y}.png', {\n",
        "              maxZoom: 18,\n",
        "              attribution: 'Map data (c) <a href=&quot;http://openstreetmap.org&quot;>OpenStreetMap</a> contributors'\n",
        "          }).addTo(map);\n",
        "\n",
        "          \n",
        "\n",
        "          \n",
        "\n",
        "          \n",
        "\n",
        "          \n",
        "\n",
        "          \n",
        "          function style_1(feature) {\n",
        "    return {\n",
        "        fillColor: color(matchKey(features.id, data_1)),\n",
        "        weight: 1,\n",
        "        opacity: 0.2,\n",
        "        color: 'black',\n",
        "        fillOpacity: 0.7\n",
        "    };\n",
        "}\n",
        "          \n",
        "\n",
        "          \n",
        "          gJson_layer_1 = L.geoJson(gjson_1, {style: style_1}).addTo(map)\n",
        "          \n",
        "\n",
        "          \n",
        "              var legend = L.control({position: 'topright'});\n",
        "\n",
        "    legend.onAdd = function (map) {var div = L.DomUtil.create('div', 'legend'); return div};\n",
        "\n",
        "    legend.addTo(map);\n",
        "\n",
        "    var x = d3.scale.linear()\n",
        "    .domain([0, 4])\n",
        "    .range([0, 400]);\n",
        "\n",
        "    var xAxis = d3.svg.axis()\n",
        "        .scale(x)\n",
        "        .orient(&quot;top&quot;)\n",
        "        .tickSize(1)\n",
        "        .tickValues(color.domain())\n",
        "\n",
        "    var svg = d3.select(&quot;.legend.leaflet-control&quot;).append(&quot;svg&quot;)\n",
        "        .attr(&quot;id&quot;, 'legend')\n",
        "        .attr(&quot;width&quot;, 450)\n",
        "        .attr(&quot;height&quot;, 40);\n",
        "\n",
        "    var g = svg.append(&quot;g&quot;)\n",
        "        .attr(&quot;class&quot;, &quot;key&quot;)\n",
        "        .attr(&quot;transform&quot;, &quot;translate(25,16)&quot;);\n",
        "\n",
        "    g.selectAll(&quot;rect&quot;)\n",
        "        .data(color.range().map(function(d, i) {\n",
        "          return {\n",
        "            x0: i ? x(color.domain()[i - 1]) : x.range()[0],\n",
        "            x1: i < color.domain().length ? x(color.domain()[i]) : x.range()[1],\n",
        "            z: d\n",
        "          };\n",
        "        }))\n",
        "      .enter().append(&quot;rect&quot;)\n",
        "        .attr(&quot;height&quot;, 10)\n",
        "        .attr(&quot;x&quot;, function(d) { return d.x0; })\n",
        "        .attr(&quot;width&quot;, function(d) { return d.x1 - d.x0; })\n",
        "        .style(&quot;fill&quot;, function(d) { return d.z; });\n",
        "\n",
        "    g.call(xAxis).append(&quot;text&quot;)\n",
        "        .attr(&quot;class&quot;, &quot;caption&quot;)\n",
        "        .attr(&quot;y&quot;, 21)\n",
        "        .text('Weighted State Crime Numbers');\n",
        "          \n",
        "\n",
        "      };\n",
        "\n",
        "   </script>\n",
        "</body>\" style=\"width: 100%; height: 510px; border: none\"></iframe>"
       ],
       "metadata": {},
       "output_type": "pyout",
       "prompt_number": 13,
       "text": [
        "<IPython.core.display.HTML at 0x1085a6190>"
       ]
      }
     ],
     "prompt_number": 13
    },
    {
     "cell_type": "code",
     "collapsed": false,
     "input": [
      "# crimeNumbers = currentYear.groupby('Crime head').sum()\n",
      "# # crimeNumbers = crimeNumbers[(currentYear['STATE/UT'] != 'TOTAL (UTs)')]\n",
      "crimeNumbers = crimeNumbers.sort(['Grand Total'], ascending=[1])\n",
      "# crimeNumbers\n",
      "plt.figure\n",
      "fig = crimeNumbers['Grand Total'].plot(kind='barh', figsize=(8,5), title = 'Number of Crimes', color='c')"
     ],
     "language": "python",
     "metadata": {},
     "outputs": [
      {
       "ename": "NameError",
       "evalue": "name 'crimeNumbers' is not defined",
       "output_type": "pyerr",
       "traceback": [
        "\u001b[0;31m---------------------------------------------------------------------------\u001b[0m\n\u001b[0;31mNameError\u001b[0m                                 Traceback (most recent call last)",
        "\u001b[0;32m<ipython-input-14-59a6f28a4ede>\u001b[0m in \u001b[0;36m<module>\u001b[0;34m()\u001b[0m\n\u001b[1;32m      1\u001b[0m \u001b[0;31m# crimeNumbers = currentYear.groupby('Crime head').sum()\u001b[0m\u001b[0;34m\u001b[0m\u001b[0;34m\u001b[0m\u001b[0m\n\u001b[1;32m      2\u001b[0m \u001b[0;31m# # crimeNumbers = crimeNumbers[(currentYear['STATE/UT'] != 'TOTAL (UTs)')]\u001b[0m\u001b[0;34m\u001b[0m\u001b[0;34m\u001b[0m\u001b[0m\n\u001b[0;32m----> 3\u001b[0;31m \u001b[0mcrimeNumbers\u001b[0m \u001b[0;34m=\u001b[0m \u001b[0mcrimeNumbers\u001b[0m\u001b[0;34m.\u001b[0m\u001b[0msort\u001b[0m\u001b[0;34m(\u001b[0m\u001b[0;34m[\u001b[0m\u001b[0;34m'Grand Total'\u001b[0m\u001b[0;34m]\u001b[0m\u001b[0;34m,\u001b[0m \u001b[0mascending\u001b[0m\u001b[0;34m=\u001b[0m\u001b[0;34m[\u001b[0m\u001b[0;36m1\u001b[0m\u001b[0;34m]\u001b[0m\u001b[0;34m)\u001b[0m\u001b[0;34m\u001b[0m\u001b[0m\n\u001b[0m\u001b[1;32m      4\u001b[0m \u001b[0;31m# crimeNumbers\u001b[0m\u001b[0;34m\u001b[0m\u001b[0;34m\u001b[0m\u001b[0m\n\u001b[1;32m      5\u001b[0m \u001b[0mplt\u001b[0m\u001b[0;34m.\u001b[0m\u001b[0mfigure\u001b[0m\u001b[0;34m\u001b[0m\u001b[0m\n",
        "\u001b[0;31mNameError\u001b[0m: name 'crimeNumbers' is not defined"
       ]
      }
     ],
     "prompt_number": 14
    },
    {
     "cell_type": "code",
     "collapsed": false,
     "input": [
      "#Calculating the sum of all rapes in the current year - alternative method \n",
      "grouped1 = currentYear.groupby(\"Crime head\")\n",
      "grouped1.get_group(\"RAPE (SECTION 376 IPC)\")[\"Grand Total\"].sum()"
     ],
     "language": "python",
     "metadata": {},
     "outputs": []
    },
    {
     "cell_type": "code",
     "collapsed": false,
     "input": [
      "# Analyzing Crimes by Age Groups\n",
      "crimeNumbers = currentYear.groupby('Crime head').sum()\n",
      "del crimeNumbers['Total Male']\n",
      "del crimeNumbers['Total Female']\n",
      "del crimeNumbers['Grand Total']\n",
      "del crimeNumbers['Total population']\n",
      "\n",
      "crimeNumbers.plot(kind='bar', title=\"Crimes by Age Category\", figsize=(15,7))\n",
      "plt.legend(loc='best')"
     ],
     "language": "python",
     "metadata": {},
     "outputs": []
    },
    {
     "cell_type": "code",
     "collapsed": false,
     "input": [
      "# # fig = plt.figure()\n",
      "# # fig, axes = plt.subplots(nrows=2, ncols=2)\n",
      "# fig = plt.figure()\n",
      "# ax1 = fig.add_subplot(2, 2, 1)\n",
      "# ax2 = fig.add_subplot(2, 2, 2)\n",
      "# ax3 = fig.add_subplot(2, 2, 3)\n",
      "\n",
      "# ind = np.arange(5)  # the x locations for the groups\n",
      "# width = 0.35       # the width of the bars\n",
      "# menMeans = (20, 35, 30, 35, 27)\n",
      "\n",
      "# plt.plot(randn(50).cumsum(), 'k--')\n",
      "# _ = ax1.hist(randn(100), bins=20, color='b', alpha=0.3)\n",
      "# # _ = ax2.bar()\n",
      "# _ = ax2.bar(ind+width, stateNumbers['Total Male'], width, color='y')"
     ],
     "language": "python",
     "metadata": {},
     "outputs": []
    },
    {
     "cell_type": "code",
     "collapsed": false,
     "input": [
      "# stateNumbers['Total Male'].plot(ax=axes[0,0]); axes[0,0].set_title('A')\n",
      "# stateNumbers['Total Male'].plot(ax=axes[0,0], kind='bar', figsize=(15,10), title = 'Number of Crimes Per State')\n",
      "# df['B'].plot(ax=axes[0,1]); axes[0,1].set_title('B')\n",
      "\n",
      "# df['C'].plot(ax=axes[1,0]); axes[1,0].set_title('C')\n",
      "\n",
      "\n",
      "# df['D'].plot(ax=axes[1,1]); axes[1,1].set_title('D')"
     ],
     "language": "python",
     "metadata": {},
     "outputs": []
    },
    {
     "cell_type": "code",
     "collapsed": false,
     "input": [
      "stateNumbers['Total Male'].plot(ax=axes[0,1], kind='bar'); axes[0,1].set_title('B')"
     ],
     "language": "python",
     "metadata": {},
     "outputs": []
    },
    {
     "cell_type": "code",
     "collapsed": false,
     "input": [
      "stateNumbers['Total Male'].plot(ax=axes[1,0]); axes[1,0].set_title('C')"
     ],
     "language": "python",
     "metadata": {},
     "outputs": []
    },
    {
     "cell_type": "code",
     "collapsed": false,
     "input": [
      "stateNumbers['Total Male'].plot(ax=axes[1,1]); axes[1,1].set_title('A')"
     ],
     "language": "python",
     "metadata": {},
     "outputs": []
    },
    {
     "cell_type": "code",
     "collapsed": false,
     "input": [
      "#Plotting the data on axis 1\n",
      "fig,ax1 = plt.subplots(figsize=(15,7))\n",
      "ax1.set_title(\"Crime Information\",fontsize=16)\n",
      "p1 = ax1.plot(historicCrimes.iloc[0][1:], color='b',label=\"Rape\",linewidth=2.0)\n",
      "p2 = ax1.plot(historicCrimes.iloc[1][1:], color='purple',label=\"Kidnapping and Abduction of Women & Girls\",linewidth=2.0)\n",
      "p3 = ax1.plot(historicCrimes.iloc[2][1:], color='red',label=\"Dowry Deaths\",linewidth=2.0)\n",
      "p4 = ax1.plot(historicCrimes.iloc[3][1:], color='black',label=\"Assault on women with intent to outrage her more\",linewidth=2.0)\n",
      "p5 = ax1.plot(historicCrimes.iloc[4][1:], color='yellow',label=\"Insult to the modesty of Women\",linewidth=2.0)\n",
      "p6 = ax1.plot(historicCrimes.iloc[5][1:], color='pink',label=\"Cruelty by Husband or his relatives\",linewidth=2.0)\n",
      "p7 = ax1.plot(historicCrimes.iloc[6][1:], color='green',label=\"Importation of Girls from Foreign Country\",linewidth=2.0)\n",
      "p8 = ax1.plot(historicCrimes.iloc[7][1:], color='orange',label=\"Immoral Traffic (P) Act\",linewidth=2.0)\n",
      "p9 = ax1.plot(historicCrimes.iloc[8][1:], color='maroon',label=\"Dowry Prohibition Act\",linewidth=2.0)\n",
      "p10 = ax1.plot(historicCrimes.iloc[9][1:], color='indigo',label=\"Indecent Representation of Women (P) Act\",linewidth=2.0)\n",
      "p11 = ax1.plot(historicCrimes.iloc[10][1:], color='brown',label=\"Commission of Sati (P) Act\",linewidth=2.0)\n",
      "ax1.set_ylabel('Number of Crimes')\n",
      "ax1.set_xlabel('Year')\n",
      "\n",
      "#Creating a list of labels\n",
      "p = p1+p2+p3+p4+p5+p6+p7+p8+p9+p10+p11\n",
      "labs = [l.get_label() for l in p]\n",
      "#Adding legend at the specified position\n",
      "ax1.legend(p, labs, loc='best')"
     ],
     "language": "python",
     "metadata": {},
     "outputs": []
    },
    {
     "cell_type": "code",
     "collapsed": false,
     "input": [
      "# labels = ('2 Hz', '4 Hz', '6 Hz')\n",
      "stateNames =(currentYear['STATE/UT'].unique()).tolist()\n",
      "# stateNames\n",
      "statesFilter = widgets.DropdownWidget(values=stateNames)\n",
      "\n",
      "def on_state_change(name, value):\n",
      "    fig\n",
      "    selectState = currentYear[(currentYear['STATE/UT'] == value)]\n",
      "    selectState = selectState.groupby('Crime head').sum()\n",
      "    fig = selectState['Grand Total'].plot(kind='barh', figsize=(8,5), title = 'Number of Crimes by Type for ' + value, color='c')\n",
      "#     print value\n",
      "\n",
      "statesFilter.on_trait_change(on_state_change, 'value')\n",
      "statesFilter\n",
      "# w.keys\n",
      "# currentYear['STATE/UT'].unique()\n",
      "# stateNumbers[['Total Male', 'Total Female']].plot(kind='bar', stacked = 'True', figsize=(15,10), title = 'Number of Crimes Per State')\n",
      "# plt.legend(loc='best')"
     ],
     "language": "python",
     "metadata": {},
     "outputs": []
    },
    {
     "cell_type": "code",
     "collapsed": false,
     "input": [
      "currentFile = codecs.open(os.path.join(FILES_DIR,'persons-CasesHeld2010-2012.csv'), encoding='iso-8859-1')\n",
      "Year2010_2012 = pd.read_csv(currentFile)\n",
      "Year2010_2012.head()"
     ],
     "language": "python",
     "metadata": {},
     "outputs": []
    },
    {
     "cell_type": "markdown",
     "metadata": {},
     "source": [
      "Is There Any Action Being Taken Against Offenders: How Many Cases Or People Are Being Charged as compared those that are actually being convicted."
     ]
    },
    {
     "cell_type": "code",
     "collapsed": false,
     "input": [
      "print (sum(Year2010_2012['PERSONS CONVICTED - 2012']).astype(float) / sum(Year2010_2012['PERSONS CHARGESHEETED - 2012']).astype(float)) * 100"
     ],
     "language": "python",
     "metadata": {},
     "outputs": []
    },
    {
     "cell_type": "code",
     "collapsed": false,
     "input": [
      "crimeRates = Year2010_2012.groupby('CRIME HEAD').sum()"
     ],
     "language": "python",
     "metadata": {},
     "outputs": []
    },
    {
     "cell_type": "code",
     "collapsed": false,
     "input": [
      "newdf1 = Year2010_2012[['STATE/UT', 'CRIME HEAD', 'PERSONS ARRESTED - 2010', 'PERSONS CHARGESHEETED - 2010', 'PERSONS CONVICTED - 2010', 'PERSONS ARRESTED - 2011', 'PERSONS CHARGESHEETED - 2011', 'PERSONS CONVICTED - 2011', 'PERSONS ARRESTED - 2012', 'PERSONS CHARGESHEETED - 2012', 'PERSONS CONVICTED - 2012']]\n",
      "newdf1['PERSONS ACQUITTED - 2010'] = newdf1['PERSONS ARRESTED - 2010'] - newdf1['PERSONS CONVICTED - 2010']\n",
      "newdf1['PERSONS ACQUITTED - 2011'] = newdf1['PERSONS ARRESTED - 2011'] - newdf1['PERSONS CONVICTED - 2011']\n",
      "newdf1['PERSONS ACQUITTED - 2012'] = newdf1['PERSONS ARRESTED - 2012'] - newdf1['PERSONS CONVICTED - 2012']\n",
      "newdf2 = newdf1[['PERSONS ACQUITTED - 2010', 'PERSONS ACQUITTED - 2011', 'PERSONS ACQUITTED - 2012']]\n",
      "\n",
      "newdf1 = newdf1[(newdf1['STATE/UT'] != \"TOTAL (STATES)\") & (newdf1['STATE/UT'] != \"TOTAL (UTs)\") & (newdf1['STATE/UT'] != \"TOTAL (ALL-INDIA)\")  & (newdf1['CRIME HEAD'] != \"TOTAL CRIMES AGAINST WOMEN\")]\n",
      "newdf1[['STATE/UT', 'CRIME HEAD', 'PERSONS ACQUITTED - 2012']].sort_index(by=\"PERSONS ACQUITTED - 2012\", ascending=False).head()"
     ],
     "language": "python",
     "metadata": {},
     "outputs": []
    },
    {
     "cell_type": "code",
     "collapsed": false,
     "input": [],
     "language": "python",
     "metadata": {},
     "outputs": []
    },
    {
     "cell_type": "code",
     "collapsed": false,
     "input": [],
     "language": "python",
     "metadata": {},
     "outputs": []
    }
   ],
   "metadata": {}
  }
 ]
}